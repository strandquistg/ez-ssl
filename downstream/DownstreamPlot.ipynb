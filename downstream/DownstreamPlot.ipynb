{
 "cells": [
  {
   "cell_type": "code",
   "execution_count": 1,
   "metadata": {},
   "outputs": [],
   "source": [
    "import numpy as np\n",
    "\n",
    "import os\n",
    "#Choose GPU 0 as a default\n",
    "os.environ[\"CUDA_DEVICE_ORDER\"]=\"PCI_BUS_ID\"\n",
    "os.environ[\"CUDA_VISIBLE_DEVICES\"]=\"0\"\n",
    "\n",
    "import tensorflow as tf\n",
    "from tensorflow.keras.layers import Flatten, Dense, Activation\n",
    "from tensorflow.keras.constraints import max_norm\n",
    "from tensorflow.keras.models import Model\n",
    "from tensorflow.keras import utils as np_utils\n",
    "from tensorflow.keras.callbacks import ModelCheckpoint,EarlyStopping\n",
    "\n",
    "import sys\n",
    "sys.path.append('/home/zsteineh/cnn_hilbert/cnn_hilbert_workspace')\n",
    "import hilbert_DL_utils\n",
    "from hilbert_DL_utils import load_data\n",
    "\n",
    "import pickle\n",
    "import pandas as pd\n",
    "import matplotlib.pyplot as plt\n",
    "import seaborn as sns\n",
    "import pingouin as pg"
   ]
  },
  {
   "cell_type": "code",
   "execution_count": 2,
   "metadata": {},
   "outputs": [],
   "source": [
    "pretask_type = ['rel_pos', 'sig_tran']\n",
    "model_types = ['pretask', 'tl', 'ts']\n",
    "datatype = \"speech\" #model or speech\n",
    "data_dict = {\"model\": \"Movement\", \"speech\": \"Speech\"}\n",
    "if datatype == \"speech\":\n",
    "        pats_ids_in = ['a0f66459','cb46fd46','b45e3f7b']\n",
    "else:\n",
    "    pats_ids_in = ['a0f66459','c95c1e82','cb46fd46','fcb01f7a','ffb52f92','b4ac1726',\n",
    "               'f3b79359','ec761078','f0bbc9a9','abdb496b','ec168864','b45e3f7b']\n",
    "sp = '/home/zsteineh/ez_ssl_results/'\n",
    "if datatype == 'model':\n",
    "    name = pretask_type[0]+model_types[1]+'_acc_dict'\n",
    "else:\n",
    "    name = pretask_type[0]+datatype+model_types[1]+'_acc_dict'\n",
    "with open(sp+'obj/' + name + '.pkl', 'rb') as f:\n",
    "        acc_dict = pickle.load(f)"
   ]
  },
  {
   "cell_type": "code",
   "execution_count": 3,
   "metadata": {
    "scrolled": true
   },
   "outputs": [
    {
     "name": "stdout",
     "output_type": "stream",
     "text": [
      "     Pretask    Model   Subject     Train       Val      Test\n",
      "0    rel_pos  pretask  a0f66459  0.558974  0.583333  0.570552\n",
      "1    rel_pos  pretask  a0f66459  0.615385  0.687500  0.668712\n",
      "2    rel_pos  pretask  a0f66459  0.492308  0.562500  0.656442\n",
      "3    rel_pos  pretask  cb46fd46  0.557447  0.465517  0.520295\n",
      "4    rel_pos  pretask  cb46fd46  0.574468  0.603448  0.535055\n",
      "5    rel_pos  pretask  cb46fd46  0.519149  0.517241  0.472325\n",
      "6    rel_pos  pretask  b45e3f7b  0.551020  0.591837  0.495798\n",
      "7    rel_pos  pretask  b45e3f7b  0.459184  0.469388  0.483193\n",
      "8    rel_pos  pretask  b45e3f7b  0.489796  0.326531  0.512605\n",
      "9    rel_pos       tl  a0f66459  0.994872  0.937500  0.938650\n",
      "10   rel_pos       tl  a0f66459  1.000000  0.979167  0.957055\n",
      "11   rel_pos       tl  a0f66459  0.989744  0.979167  0.932515\n",
      "12   rel_pos       tl  cb46fd46  1.000000  0.948276  0.523985\n",
      "13   rel_pos       tl  cb46fd46  0.982979  0.931034  0.542435\n",
      "14   rel_pos       tl  cb46fd46  1.000000  1.000000  0.538745\n",
      "15   rel_pos       tl  b45e3f7b  0.994898  0.938776  0.882353\n",
      "16   rel_pos       tl  b45e3f7b  0.989796  0.918367  0.878151\n",
      "17   rel_pos       tl  b45e3f7b  0.974490  0.938776  0.852941\n",
      "18   rel_pos       ts  a0f66459  1.000000  0.958333  0.920245\n",
      "19   rel_pos       ts  a0f66459  1.000000  0.937500  0.895706\n",
      "20   rel_pos       ts  a0f66459  0.974359  0.958333  0.883436\n",
      "21   rel_pos       ts  cb46fd46  0.991489  0.931034  0.538745\n",
      "22   rel_pos       ts  cb46fd46  0.948936  0.793103  0.520295\n",
      "23   rel_pos       ts  cb46fd46  1.000000  0.965517  0.546125\n",
      "24   rel_pos       ts  b45e3f7b  1.000000  0.897959  0.890756\n",
      "25   rel_pos       ts  b45e3f7b  0.994898  0.918367  0.861345\n",
      "26   rel_pos       ts  b45e3f7b  0.959184  0.877551  0.747899\n",
      "27  sig_tran  pretask  a0f66459  0.528205  0.416667  0.503067\n",
      "28  sig_tran  pretask  a0f66459  0.471795  0.666667  0.503067\n",
      "29  sig_tran  pretask  a0f66459  0.538462  0.375000  0.496933\n",
      "30  sig_tran  pretask  cb46fd46  0.510638  0.551724  0.479705\n",
      "31  sig_tran  pretask  cb46fd46  0.506383  0.534483  0.472325\n",
      "32  sig_tran  pretask  cb46fd46  0.514894  0.620690  0.512915\n",
      "33  sig_tran  pretask  b45e3f7b  0.545918  0.571429  0.491597\n",
      "34  sig_tran  pretask  b45e3f7b  0.545918  0.591837  0.495798\n",
      "35  sig_tran  pretask  b45e3f7b  0.438776  0.489796  0.508403\n",
      "36  sig_tran       tl  a0f66459  0.958974  0.979167  0.914110\n",
      "37  sig_tran       tl  a0f66459  0.969231  0.895833  0.907975\n",
      "38  sig_tran       tl  a0f66459  0.948718  0.958333  0.932515\n",
      "39  sig_tran       tl  cb46fd46  0.927660  0.948276  0.538745\n",
      "40  sig_tran       tl  cb46fd46  0.953191  0.948276  0.538745\n",
      "41  sig_tran       tl  cb46fd46  0.965957  0.879310  0.520295\n",
      "42  sig_tran       tl  b45e3f7b  0.913265  0.816327  0.722689\n",
      "43  sig_tran       tl  b45e3f7b  0.928571  0.836735  0.785714\n",
      "44  sig_tran       tl  b45e3f7b  0.933673  0.836735  0.722689\n",
      "45  sig_tran       ts  a0f66459  0.994872  1.000000  0.883436\n",
      "46  sig_tran       ts  a0f66459  0.994872  0.916667  0.932515\n",
      "47  sig_tran       ts  a0f66459  0.994872  0.979167  0.920245\n",
      "48  sig_tran       ts  cb46fd46  1.000000  0.948276  0.542435\n",
      "49  sig_tran       ts  cb46fd46  0.991489  0.896552  0.512915\n",
      "50  sig_tran       ts  cb46fd46  1.000000  0.896552  0.546125\n",
      "51  sig_tran       ts  b45e3f7b  1.000000  0.897959  0.852941\n",
      "52  sig_tran       ts  b45e3f7b  1.000000  0.877551  0.857143\n",
      "53  sig_tran       ts  b45e3f7b  1.000000  0.979592  0.823529\n"
     ]
    },
    {
     "name": "stderr",
     "output_type": "stream",
     "text": [
      "/home/zsteineh/anaconda3/envs/ez_ss_dl_venv/lib/python3.8/site-packages/outdated/utils.py:14: OutdatedCacheFailedWarning: Failed to use cache while checking for outdated package.\n",
      "Set the environment variable OUTDATED_RAISE_EXCEPTION=1 for a full traceback.\n",
      "Set the environment variable OUTDATED_IGNORE=1 to disable these warnings.\n",
      "  return warn(\n"
     ]
    }
   ],
   "source": [
    "sbj_accs = []\n",
    "for pretask in pretask_type:\n",
    "    for model in model_types:\n",
    "        if datatype == 'model':\n",
    "            name = pretask+model+'_acc_dict'\n",
    "        else:\n",
    "            name = pretask+datatype+model+'_acc_dict'\n",
    "        with open(sp+'obj/' + name + '.pkl', 'rb') as f:\n",
    "            acc_dict = pickle.load(f)\n",
    "        for sbj in acc_dict:\n",
    "            for accs_set in acc_dict[sbj]:\n",
    "                accs = [pretask, model, sbj]\n",
    "                for acc in accs_set:\n",
    "                    accs.append(acc)\n",
    "                sbj_accs.append(accs)\n",
    "sbj_acc_df = pd.DataFrame.from_records(sbj_accs, columns = ['Pretask','Model','Subject', 'Train', 'Val', 'Test'])\n",
    "print(sbj_acc_df)"
   ]
  },
  {
   "cell_type": "code",
   "execution_count": 4,
   "metadata": {},
   "outputs": [
    {
     "name": "stdout",
     "output_type": "stream",
     "text": [
      "     Pretask    Model   Subject     Train       Val      Test\n",
      "0    rel_pos  pretask  a0f66459  0.555556  0.611111  0.631902\n",
      "1    rel_pos  pretask  cb46fd46  0.550355  0.528736  0.509225\n",
      "2    rel_pos  pretask  b45e3f7b  0.500000  0.462585  0.497199\n",
      "3    rel_pos       tl  a0f66459  0.994872  0.965278  0.942740\n",
      "4    rel_pos       tl  cb46fd46  0.994326  0.959770  0.535055\n",
      "5    rel_pos       tl  b45e3f7b  0.986395  0.931973  0.871148\n",
      "6    rel_pos       ts  a0f66459  0.991453  0.951389  0.899796\n",
      "7    rel_pos       ts  cb46fd46  0.980142  0.896552  0.535055\n",
      "8    rel_pos       ts  b45e3f7b  0.984694  0.897959  0.833333\n",
      "9   sig_tran  pretask  a0f66459  0.512821  0.486111  0.501022\n",
      "10  sig_tran  pretask  cb46fd46  0.510638  0.568966  0.488315\n",
      "11  sig_tran  pretask  b45e3f7b  0.510204  0.551020  0.498599\n",
      "12  sig_tran       tl  a0f66459  0.958974  0.944444  0.918200\n",
      "13  sig_tran       tl  cb46fd46  0.948936  0.925287  0.532595\n",
      "14  sig_tran       tl  b45e3f7b  0.925170  0.829932  0.743697\n",
      "15  sig_tran       ts  a0f66459  0.994872  0.965278  0.912065\n",
      "16  sig_tran       ts  cb46fd46  0.997163  0.913793  0.533825\n",
      "17  sig_tran       ts  b45e3f7b  1.000000  0.918367  0.844538\n"
     ]
    }
   ],
   "source": [
    "sbj_mean_accs = []\n",
    "for pretask in pretask_type:\n",
    "    for model in model_types:\n",
    "        if datatype == 'model':\n",
    "            name = pretask+model+'_acc_dict'\n",
    "        else:\n",
    "            name = pretask+datatype+model+'_acc_dict'\n",
    "        with open(sp+'obj/' + name + '.pkl', 'rb') as f:\n",
    "            acc_dict = pickle.load(f)\n",
    "        for sbj in acc_dict:\n",
    "            means = [0, 0, 0]\n",
    "            for accs_set in acc_dict[sbj]:\n",
    "                accs = [pretask, model, sbj]\n",
    "                means[0] += accs_set[0]\n",
    "                means[1] += accs_set[1]\n",
    "                means[2] += accs_set[2]\n",
    "            for m, mean in enumerate(means):\n",
    "                means[m] = mean / len(acc_dict[sbj])\n",
    "                accs.append(means[m])\n",
    "            sbj_mean_accs.append(accs)\n",
    "sbj_mean_accs = pd.DataFrame.from_records(sbj_mean_accs, columns = ['Pretask','Model','Subject', 'Train', 'Val', 'Test'])\n",
    "print(sbj_mean_accs)\n"
   ]
  },
  {
   "cell_type": "code",
   "execution_count": 5,
   "metadata": {},
   "outputs": [
    {
     "name": "stdout",
     "output_type": "stream",
     "text": [
      "['a0f', 'cb4', 'b45']\n"
     ]
    },
    {
     "name": "stderr",
     "output_type": "stream",
     "text": [
      "/home/zsteineh/anaconda3/envs/ez_ss_dl_venv/lib/python3.8/site-packages/outdated/utils.py:14: OutdatedCacheFailedWarning: Failed to use cache while checking for outdated package.\n",
      "Set the environment variable OUTDATED_RAISE_EXCEPTION=1 for a full traceback.\n",
      "Set the environment variable OUTDATED_IGNORE=1 to disable these warnings.\n",
      "  return warn(\n"
     ]
    }
   ],
   "source": [
    "short_names = [sbj[:3] for sbj in pats_ids_in]\n",
    "print(short_names)"
   ]
  },
  {
   "cell_type": "code",
   "execution_count": 6,
   "metadata": {},
   "outputs": [
    {
     "name": "stderr",
     "output_type": "stream",
     "text": [
      "<ipython-input-6-b20fa877021c>:9: UserWarning: FixedFormatter should only be used together with FixedLocator\n",
      "  my_plt.set_xticklabels(short_names,rotation=40)\n"
     ]
    },
    {
     "data": {
      "image/png": "[encoded data removed]",
      "text/plain": [
       "<Figure size 432x288 with 1 Axes>"
      ]
     },
     "metadata": {
      "needs_background": "light"
     },
     "output_type": "display_data"
    },
    {
     "name": "stderr",
     "output_type": "stream",
     "text": [
      "<ipython-input-6-b20fa877021c>:9: UserWarning: FixedFormatter should only be used together with FixedLocator\n",
      "  my_plt.set_xticklabels(short_names,rotation=40)\n"
     ]
    },
    {
     "data": {
      "image/png": "[encoded data removed]",
      "text/plain": [
       "<Figure size 432x288 with 1 Axes>"
      ]
     },
     "metadata": {
      "needs_background": "light"
     },
     "output_type": "display_data"
    }
   ],
   "source": [
    "correct_model_labels = ['Pretask', 'Downstream', 'Supervised']\n",
    "correct_pretask_labels = {'rel_pos':'Relative Position', 'sig_tran':'Signal Transform'}\n",
    "my_pal = {\"pretask\": '#A1DA85', \"tl\": 'g', \"ts\": '#FF7D5D'}\n",
    "# plot some subject specific stuff\n",
    "\n",
    "for pre in pretask_type:\n",
    "    my_plt = sns.scatterplot(x = 'Subject', y = 'Test', hue = 'Model', \n",
    "                      data = sbj_mean_accs.loc[sbj_mean_accs['Pretask'] == pre], palette=my_pal, style = 'Model')\n",
    "    my_plt.set_xticklabels(short_names,rotation=40)\n",
    "    my_plt.set_title(correct_pretask_labels[pre]+' Per Subject Test Accuracies for '+ data_dict[datatype])\n",
    "    my_plt.set_ylim([(1/2)-.05,1.065])\n",
    "    my_plt.set_yticks([.5,.75,1])\n",
    "    my_plt.spines['right'].set_visible(False)\n",
    "    my_plt.spines['top'].set_visible(False)\n",
    "    leg = my_plt.get_legend()\n",
    "    for t, l in zip(leg.texts, correct_model_labels): t.set_text(l)\n",
    "    my_plt.axhline(1/2,c='k',linestyle='--')\n",
    "    my_plt.set_ylabel('Test Accuracy')\n",
    "    plt.show()"
   ]
  },
  {
   "cell_type": "code",
   "execution_count": 7,
   "metadata": {},
   "outputs": [
    {
     "data": {
      "image/png": "[encoded data removed]",
      "text/plain": [
       "<Figure size 432x288 with 1 Axes>"
      ]
     },
     "metadata": {
      "needs_background": "light"
     },
     "output_type": "display_data"
    }
   ],
   "source": [
    "my_plt = sns.boxplot(x = 'Model', y = 'Test', hue = 'Pretask', data = sbj_acc_df, palette='Set2')\n",
    "my_plt.set_xticklabels(my_plt.get_xticklabels(),rotation=40)\n",
    "my_plt.set_title('Model Test Accuracies for '+ data_dict[datatype] +' Downstream Task')\n",
    "my_plt.set_ylim([(1/2)-.05,1.065])\n",
    "my_plt.set_yticks([.5,.75,1])\n",
    "my_plt.axhline(1/2,c='k',linestyle='--')\n",
    "my_plt.spines['right'].set_visible(False)\n",
    "my_plt.spines['top'].set_visible(False)\n",
    "my_plt.set_ylabel('Test Accuracy')\n",
    "my_plt.set_xticklabels(correct_model_labels)\n",
    "leg = my_plt.get_legend()\n",
    "for t, l in zip(leg.texts, correct_pretask_labels.values()): t.set_text(l)\n",
    "plt.show()"
   ]
  },
  {
   "cell_type": "code",
   "execution_count": 8,
   "metadata": {},
   "outputs": [
    {
     "name": "stdout",
     "output_type": "stream",
     "text": [
      "Averages for rel_pos:  Model\n",
      "pretask    0.546109\n",
      "tl         0.782981\n",
      "ts         0.756061\n",
      "Name: Test, dtype: float64\n",
      "Averages for sig_tran:  Model\n",
      "pretask    0.495979\n",
      "tl         0.731498\n",
      "ts         0.763476\n",
      "Name: Test, dtype: float64\n"
     ]
    }
   ],
   "source": [
    "# Get the averages for the above box plots\n",
    "print(\"Averages for rel_pos: \", sbj_acc_df.loc[sbj_acc_df['Pretask'] == 'rel_pos'].groupby('Model')['Test'].mean())\n",
    "print(\"Averages for sig_tran: \", sbj_acc_df.loc[sbj_acc_df['Pretask'] == 'sig_tran'].groupby('Model')['Test'].mean())"
   ]
  },
  {
   "cell_type": "code",
   "execution_count": 9,
   "metadata": {},
   "outputs": [
    {
     "name": "stdout",
     "output_type": "stream",
     "text": [
      "Friedman    0.096972\n",
      "Name: p-unc, dtype: float64\n",
      "         pretask        tl        ts\n",
      "pretask      NaN  0.000023  0.000023\n",
      "tl           NaN       NaN  0.831726\n",
      "ts           NaN       NaN       NaN\n"
     ]
    }
   ],
   "source": [
    "# Kruskal-Wallis test (non-parametric ANOVA)\n",
    "print(pg.friedman(data=sbj_acc_df, dv='Test', within='Model', subject='Subject')['p-unc'])\n",
    "\n",
    "# Wilcoxon tests (non-parametric t-tests)\n",
    "# Computes tests at the data snapshot\n",
    "p_vals = []\n",
    "n_models = len(model_types)\n",
    "for i in range(n_models):\n",
    "    for j in range(i+1,n_models):\n",
    "        val1 = sbj_acc_df[(sbj_acc_df['Model'] == model_types[i])].iloc[:,5].values\n",
    "        val2 = sbj_acc_df[(sbj_acc_df['Model'] == model_types[j])].iloc[:,5].values\n",
    "        p_vals.append(float(pg.wilcoxon(val1, val2)['p-val']))\n",
    "\n",
    "# Correct for multiple comparisons\n",
    "_,p_vals = pg.multicomp(np.asarray(p_vals), alpha=0.05, method='fdr_bh')\n",
    "\n",
    "pval_df = np.zeros([n_models,n_models])\n",
    "q = 0\n",
    "for i in range(n_models):\n",
    "    for j in range(i+1,n_models):\n",
    "        pval_df[i,j] = p_vals[q]\n",
    "        q += 1\n",
    "\n",
    "# Create output df with p_values\n",
    "df_pval = pd.DataFrame(pval_df,columns=model_types,index=model_types)\n",
    "df_pval[df_pval==0] = np.nan\n",
    "print(df_pval)"
   ]
  },
  {
   "cell_type": "code",
   "execution_count": 10,
   "metadata": {},
   "outputs": [
    {
     "name": "stdout",
     "output_type": "stream",
     "text": [
      "Friedman    0.083265\n",
      "Name: p-unc, dtype: float64\n"
     ]
    }
   ],
   "source": [
    "# Kruskal-Wallis test (non-parametric ANOVA)\n",
    "print(pg.friedman(data=sbj_acc_df, dv='Test', within='Pretask', subject='Subject')['p-unc'])\n",
    "# Looks like this isn't significant between the diff pretasks"
   ]
  },
  {
   "cell_type": "code",
   "execution_count": 11,
   "metadata": {},
   "outputs": [
    {
     "name": "stdout",
     "output_type": "stream",
     "text": [
      "running model comparison stats for rel_pos\n",
      "         pretask        tl        ts\n",
      "pretask      NaN  0.011719  0.011719\n",
      "tl           NaN       NaN  0.054688\n",
      "ts           NaN       NaN       NaN\n",
      "running model comparison stats for sig_tran\n",
      "         pretask        tl        ts\n",
      "pretask      NaN  0.005859  0.005859\n",
      "tl           NaN       NaN  0.250000\n",
      "ts           NaN       NaN       NaN\n"
     ]
    }
   ],
   "source": [
    "# Wilcoxon tests (non-parametric t-tests)\n",
    "# Computes tests at the data snapshot\n",
    "p_vals = []\n",
    "n_models = len(model_types)\n",
    "n_pretasks = len(pretask_type)\n",
    "\n",
    "for pretask in range(n_pretasks):\n",
    "    print(\"running model comparison stats for\", pretask_type[pretask])\n",
    "    pretask_df = sbj_acc_df[(sbj_acc_df['Pretask'] == pretask_type[pretask])]\n",
    "    p_vals = []\n",
    "    for i in range(n_models):\n",
    "        for j in range(i+1,n_models):\n",
    "            val1 = pretask_df[(pretask_df['Model'] == model_types[i])].iloc[:,5].values\n",
    "            val2 = pretask_df[(pretask_df['Model'] == model_types[j])].iloc[:,5].values\n",
    "            p_vals.append(float(pg.wilcoxon(val1, val2)['p-val']))\n",
    "\n",
    "    # Correct for multiple comparisons\n",
    "    _,p_vals = pg.multicomp(np.asarray(p_vals), alpha=0.05, method='fdr_bh')\n",
    "\n",
    "    pval_df = np.zeros([n_models,n_models])\n",
    "    q = 0\n",
    "    for i in range(n_models):\n",
    "        for j in range(i+1,n_models):\n",
    "            pval_df[i,j] = p_vals[q]\n",
    "            q += 1\n",
    "\n",
    "    # Create output df with p_values\n",
    "    df_pval = pd.DataFrame(pval_df,columns=model_types,index=model_types)\n",
    "    df_pval[df_pval==0] = np.nan\n",
    "    print(df_pval)"
   ]
  },
  {
   "cell_type": "code",
   "execution_count": null,
   "metadata": {},
   "outputs": [],
   "source": []
  }
 ],
 "metadata": {
  "kernelspec": {
   "display_name": "ez_ss_dl_venv",
   "language": "python",
   "name": "ez_ss_dl_venv"
  },
  "language_info": {
   "codemirror_mode": {
    "name": "ipython",
    "version": 3
   },
   "file_extension": ".py",
   "mimetype": "text/x-python",
   "name": "python",
   "nbconvert_exporter": "python",
   "pygments_lexer": "ipython3",
   "version": "3.8.3"
  }
 },
 "nbformat": 4,
 "nbformat_minor": 4
}
