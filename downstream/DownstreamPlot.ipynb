{
 "cells": [
  {
   "cell_type": "code",
   "execution_count": 1,
   "metadata": {},
   "outputs": [],
   "source": [
    "import numpy as np\n",
    "\n",
    "import os\n",
    "#Choose GPU 0 as a default\n",
    "os.environ[\"CUDA_DEVICE_ORDER\"]=\"PCI_BUS_ID\"\n",
    "os.environ[\"CUDA_VISIBLE_DEVICES\"]=\"0\"\n",
    "\n",
    "import tensorflow as tf\n",
    "from tensorflow.keras.layers import Flatten, Dense, Activation\n",
    "from tensorflow.keras.constraints import max_norm\n",
    "from tensorflow.keras.models import Model\n",
    "from tensorflow.keras import utils as np_utils\n",
    "from tensorflow.keras.callbacks import ModelCheckpoint,EarlyStopping\n",
    "\n",
    "import sys\n",
    "sys.path.append('/home/zsteineh/cnn_hilbert/cnn_hilbert_workspace')\n",
    "import hilbert_DL_utils\n",
    "from hilbert_DL_utils import load_data\n",
    "\n",
    "import pickle\n",
    "import pandas as pd\n",
    "import matplotlib.pyplot as plt\n",
    "import seaborn as sns"
   ]
  },
  {
   "cell_type": "code",
   "execution_count": 2,
   "metadata": {},
   "outputs": [],
   "source": [
    "pretask_type = 'rel_pos'\n",
    "sp = '/home/zsteineh/ez_ssl_results/'\n",
    "name = pretask_type+'_acc_dict'\n",
    "with open(sp+'obj/' + name + '.pkl', 'rb') as f:\n",
    "        acc_dict = pickle.load(f)"
   ]
  },
  {
   "cell_type": "code",
   "execution_count": 3,
   "metadata": {
    "scrolled": true
   },
   "outputs": [
    {
     "name": "stdout",
     "output_type": "stream",
     "text": [
      "     Subject     Train       Val      Test\n",
      "0   a0f66459  0.939234  0.910053  0.854839\n",
      "1   a0f66459  0.943197  0.910053  0.844086\n",
      "2   a0f66459  0.945839  0.936508  0.846774\n",
      "3   c95c1e82  0.813688  0.723077  0.733333\n",
      "4   c95c1e82  0.863118  0.692308  0.677778\n",
      "5   c95c1e82  0.889734  0.753846  0.711111\n",
      "6   cb46fd46  0.966321  0.921875  0.828431\n",
      "7   cb46fd46  0.994819  0.963542  0.828431\n",
      "8   cb46fd46  0.967617  0.927083  0.774510\n",
      "9   fcb01f7a  0.885714  0.754098  0.769565\n",
      "10  fcb01f7a  0.763265  0.737705  0.669565\n",
      "11  fcb01f7a  0.885714  0.754098  0.782609\n",
      "12  ffb52f92  0.873950  0.689655  0.709302\n",
      "13  ffb52f92  0.932773  0.931034  0.651163\n",
      "14  ffb52f92  0.932773  0.793103  0.705426\n",
      "15  b4ac1726  0.980961  0.938182  0.886111\n",
      "16  b4ac1726  0.985494  0.945455  0.888889\n",
      "17  b4ac1726  0.985494  0.938182  0.838889\n",
      "18  f3b79359  0.986318  0.975000  0.971098\n",
      "19  f3b79359  0.990050  0.970000  0.959538\n",
      "20  f3b79359  0.997512  0.925000  0.968208\n",
      "21  ec761078  0.940520  0.869403  0.837079\n",
      "22  ec761078  0.922862  0.873134  0.811798\n",
      "23  ec761078  0.934015  0.869403  0.837079\n",
      "24  f0bbc9a9  0.951923  0.884615  0.809524\n",
      "25  f0bbc9a9  0.947115  0.865385  0.833333\n",
      "26  f0bbc9a9  0.942308  0.923077  0.833333\n",
      "27  abdb496b  0.942359  0.924731  0.743506\n",
      "28  abdb496b  0.912869  0.876344  0.672078\n",
      "29  abdb496b  0.950402  0.892473  0.756494\n",
      "30  ec168864  0.917544  0.883803  0.918478\n",
      "31  ec168864  0.942982  0.880282  0.937500\n",
      "32  ec168864  0.946491  0.887324  0.940217\n",
      "33  b45e3f7b  0.823140  0.728477  0.774869\n",
      "34  b45e3f7b  0.900826  0.758278  0.787958\n",
      "35  b45e3f7b  0.862810  0.804636  0.806283\n"
     ]
    }
   ],
   "source": [
    "sbj_accs = []\n",
    "for sbj in acc_dict:\n",
    "    for accs_set in acc_dict[sbj]:\n",
    "        accs = [sbj]\n",
    "        for acc in accs_set:\n",
    "            accs.append(acc)\n",
    "        sbj_accs.append(accs)\n",
    "sbj_acc_df = pd.DataFrame.from_records(sbj_accs, columns = ['Subject', 'Train', 'Val', 'Test'])\n",
    "print(sbj_acc_df)"
   ]
  },
  {
   "cell_type": "code",
   "execution_count": 4,
   "metadata": {},
   "outputs": [],
   "source": [
    "sbj_acc_df = pd.DataFrame.from_records(sbj_accs, columns = ['Subject', 'Train', 'Val', 'Test'])"
   ]
  },
  {
   "cell_type": "code",
   "execution_count": 5,
   "metadata": {},
   "outputs": [
    {
     "data": {
      "text/plain": [
       "0.8110885048074112"
      ]
     },
     "execution_count": 5,
     "metadata": {},
     "output_type": "execute_result"
    }
   ],
   "source": [
    "sbj_acc_df['Test'].mean()"
   ]
  },
  {
   "cell_type": "code",
   "execution_count": 6,
   "metadata": {},
   "outputs": [
    {
     "data": {
      "text/plain": [
       "<matplotlib.lines.Line2D at 0x7f732fe79880>"
      ]
     },
     "execution_count": 6,
     "metadata": {},
     "output_type": "execute_result"
    },
    {
     "data": {
      "image/png": "[encoded data removed]",
      "text/plain": [
       "<Figure size 432x288 with 1 Axes>"
      ]
     },
     "metadata": {
      "needs_background": "light"
     },
     "output_type": "display_data"
    }
   ],
   "source": [
    "# plot some subject specific stuff\n",
    "plt = sns.boxplot(x = 'Subject', y = 'Test', data = sbj_acc_df)\n",
    "plt.set_xticklabels(plt.get_xticklabels(),rotation=40)\n",
    "plt.set_title(pretask_type+' per subject test accuracies')\n",
    "plt.set_ylim([(1/2)-.05,1.065])\n",
    "plt.set_yticks([.5,.75,1])\n",
    "plt.axhline(1/2,c='k',linestyle='--')"
   ]
  },
  {
   "cell_type": "code",
   "execution_count": null,
   "metadata": {},
   "outputs": [],
   "source": []
  }
 ],
 "metadata": {
  "kernelspec": {
   "display_name": "ez_ss_dl_venv",
   "language": "python",
   "name": "ez_ss_dl_venv"
  },
  "language_info": {
   "codemirror_mode": {
    "name": "ipython",
    "version": 3
   },
   "file_extension": ".py",
   "mimetype": "text/x-python",
   "name": "python",
   "nbconvert_exporter": "python",
   "pygments_lexer": "ipython3",
   "version": "3.8.3"
  }
 },
 "nbformat": 4,
 "nbformat_minor": 4
}
